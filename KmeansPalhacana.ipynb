{
 "cells": [
  {
   "cell_type": "code",
   "execution_count": 4,
   "metadata": {},
   "outputs": [],
   "source": [
    "from sklearn import datasets\n",
    "import numpy as np\n",
    "from sklearn.metrics import confusion_matrix\n",
    "import matplotlib.pyplot as plt\n",
    "from sklearn.cluster import KMeans"
   ]
  },
  {
   "cell_type": "code",
   "execution_count": 5,
   "metadata": {},
   "outputs": [],
   "source": [
    "palhatreino1 = plt.imread(\"./palha_treino/ct1.bmp\")\n",
    "palhatreino2 = plt.imread(\"./palha_treino/ct2.bmp\")\n",
    "palhatreino3 = plt.imread(\"./palha_treino/ct3.bmp\")\n",
    "palhatreino4 = plt.imread(\"./palha_treino/ct4.bmp\")\n",
    "palhatreino5 = plt.imread(\"./palha_treino/ct5.bmp\")"
   ]
  },
  {
   "cell_type": "code",
   "execution_count": 6,
   "metadata": {},
   "outputs": [],
   "source": [
    "palhatreino1array = np.asarray(palhatreino1)\n",
    "palhatreino2array = np.asarray(palhatreino2)\n",
    "palhatreino3array = np.asarray(palhatreino3)\n",
    "palhatreino4array = np.asarray(palhatreino4)\n",
    "palhatreino5array = np.asarray(palhatreino5)"
   ]
  },
  {
   "cell_type": "code",
   "execution_count": 7,
   "metadata": {},
   "outputs": [],
   "source": [
    "canatreino1 = plt.imread(\"./cana_treino/ct1.bmp\")\n",
    "canatreino2 = plt.imread(\"./cana_treino/ct2.bmp\")\n",
    "canatreino3 = plt.imread(\"./cana_treino/ct3.bmp\")\n",
    "canatreino4 = plt.imread(\"./cana_treino/ct4.bmp\")\n",
    "canatreino5 = plt.imread(\"./cana_treino/ct5.bmp\")"
   ]
  },
  {
   "cell_type": "code",
   "execution_count": 8,
   "metadata": {},
   "outputs": [],
   "source": [
    "canatreino1array = np.asarray(canatreino1)\n",
    "canatreino2array = np.asarray(canatreino2)\n",
    "canatreino3array = np.asarray(canatreino3)\n",
    "canatreino4array = np.asarray(canatreino4)\n",
    "canatreino5array = np.asarray(canatreino5)"
   ]
  },
  {
   "cell_type": "code",
   "execution_count": 9,
   "metadata": {},
   "outputs": [],
   "source": [
    "sopalha = plt.imread(\"./Imagens_percentuais/im_t_p0.bmp\") #100% palha\n",
    "palha10 = plt.imread(\"./Imagens_percentuais/im_t_p1.bmp\")\n",
    "palha20 = plt.imread(\"./Imagens_percentuais/im_t_p2.bmp\")\n",
    "palha30 = plt.imread(\"./Imagens_percentuais/im_t_p3.bmp\")\n",
    "palha40 = plt.imread(\"./Imagens_percentuais/im_t_p4.bmp\")\n",
    "palha50 = plt.imread(\"./Imagens_percentuais/im_t_p5.bmp\")\n",
    "palha60 = plt.imread(\"./Imagens_percentuais/im_t_p6.bmp\")\n",
    "palha70 = plt.imread(\"./Imagens_percentuais/im_t_p7.bmp\")\n",
    "palha80 = plt.imread(\"./Imagens_percentuais/im_t_p8.bmp\")\n",
    "palha90 = plt.imread(\"./Imagens_percentuais/im_t_p9.bmp\")\n",
    "socana = plt.imread(\"./Imagens_percentuais/im_t_p10.bmp\") #100% cana"
   ]
  },
  {
   "cell_type": "code",
   "execution_count": 10,
   "metadata": {},
   "outputs": [],
   "source": [
    "arraysopalha = np.asarray(sopalha)\n",
    "arraypalha10 = np.asarray(palha10)\n",
    "arraypalha20 = np.asarray(palha20)\n",
    "arraypalha30 = np.asarray(palha30)\n",
    "arraypalha40 = np.asarray(palha40)\n",
    "arraypalha50 = np.asarray(palha50)\n",
    "arraypalha60 = np.asarray(palha60)\n",
    "arraypalha70 = np.asarray(palha70)\n",
    "arraypalha80 = np.asarray(palha80)\n",
    "arraypalha90 = np.asarray(palha90)\n",
    "arraysocana = np.asarray(socana)"
   ]
  },
  {
   "cell_type": "code",
   "execution_count": 11,
   "metadata": {},
   "outputs": [],
   "source": [
    "cluster = KMeans(n_clusters = 2)"
   ]
  },
  {
   "cell_type": "code",
   "execution_count": null,
   "metadata": {},
   "outputs": [],
   "source": [
    "#pixels são dimensoes\n",
    "#treinar com as 5 img de cada\n"
   ]
  }
 ],
 "metadata": {
  "kernelspec": {
   "display_name": "Python 3",
   "language": "python",
   "name": "python3"
  },
  "language_info": {
   "codemirror_mode": {
    "name": "ipython",
    "version": 3
   },
   "file_extension": ".py",
   "mimetype": "text/x-python",
   "name": "python",
   "nbconvert_exporter": "python",
   "pygments_lexer": "ipython3",
   "version": "3.11.3"
  },
  "orig_nbformat": 4
 },
 "nbformat": 4,
 "nbformat_minor": 2
}
