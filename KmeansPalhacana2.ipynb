{
 "cells": [
  {
   "cell_type": "code",
   "execution_count": null,
   "metadata": {},
   "outputs": [],
   "source": [
    "from sklearn import datasets\n",
    "import numpy as np\n",
    "from sklearn.metrics import confusion_matrix\n",
    "import matplotlib.pyplot as plt\n",
    "from sklearn.cluster import KMeans\n",
    "from sklearn import datasets\n",
    "from sklearn.metrics.pairwise import euclidean_distances\n",
    "from scipy.spatial import distance"
   ]
  },
  {
   "cell_type": "code",
   "execution_count": null,
   "metadata": {},
   "outputs": [],
   "source": [
    "canatreino1 = plt.imread(\"./cana_treino/ct1.bmp\")\n",
    "canatreino2 = plt.imread(\"./cana_treino/ct2.bmp\")\n",
    "canatreino3 = plt.imread(\"./cana_treino/ct3.bmp\")\n",
    "canatreino4 = plt.imread(\"./cana_treino/ct4.bmp\")\n",
    "canatreino5 = plt.imread(\"./cana_treino/ct5.bmp\")"
   ]
  },
  {
   "cell_type": "code",
   "execution_count": null,
   "metadata": {},
   "outputs": [],
   "source": [
    "palhatreino1 = plt.imread(\"./palha_treino/pt1.bmp\")\n",
    "palhatreino2 = plt.imread(\"./palha_treino/pt2.bmp\")\n",
    "palhatreino3 = plt.imread(\"./palha_treino/pt3.bmp\")\n",
    "palhatreino4 = plt.imread(\"./palha_treino/pt4.bmp\")\n",
    "palhatreino5 = plt.imread(\"./palha_treino/pt5.bmp\")"
   ]
  },
  {
   "cell_type": "code",
   "execution_count": null,
   "metadata": {},
   "outputs": [],
   "source": [
    "sopalha = plt.imread(\"./Imagens_percentuais/im_t_p0.bmp\") #100% palha\n",
    "palha10 = plt.imread(\"./Imagens_percentuais/im_t_p1.bmp\")\n",
    "palha20 = plt.imread(\"./Imagens_percentuais/im_t_p2.bmp\")\n",
    "palha30 = plt.imread(\"./Imagens_percentuais/im_t_p3.bmp\")\n",
    "palha40 = plt.imread(\"./Imagens_percentuais/im_t_p4.bmp\")\n",
    "palha50 = plt.imread(\"./Imagens_percentuais/im_t_p5.bmp\")\n",
    "palha60 = plt.imread(\"./Imagens_percentuais/im_t_p6.bmp\")\n",
    "palha70 = plt.imread(\"./Imagens_percentuais/im_t_p7.bmp\")\n",
    "palha80 = plt.imread(\"./Imagens_percentuais/im_t_p8.bmp\")\n",
    "palha90 = plt.imread(\"./Imagens_percentuais/im_t_p9.bmp\")\n",
    "socana = plt.imread(\"./Imagens_percentuais/im_t_p10.bmp\") #100% cana"
   ]
  },
  {
   "cell_type": "code",
   "execution_count": null,
   "metadata": {},
   "outputs": [],
   "source": [
    "canatreino1vet = []\n",
    "canatreino2vet = []\n",
    "canatreino3vet = []\n",
    "canatreino4vet = []\n",
    "canatreino5vet = []\n",
    "palhatreino1vet = []\n",
    "palhatreino2vet = []\n",
    "palhatreino3vet = []\n",
    "palhatreino4vet = []\n",
    "palhatreino5vet = []\n",
    "sopalhavet = []\n",
    "palha10vet = []\n",
    "palha20vet = []\n",
    "palha30vet = []\n",
    "palha40vet = []\n",
    "palha50vet = []\n",
    "palha60vet = []\n",
    "palha70vet = []\n",
    "palha80vet = []\n",
    "palha90vet = []\n",
    "socanavet = []\n",
    "matriztreino = []\n",
    "centroidpalha = []\n",
    "centroidcana = []\n",
    "matrizteste = []\n",
    "distanciatreino = []\n",
    "distanciateste = []\n",
    "perimetropalha = 0\n",
    "perimetrocana = 0\n"
   ]
  },
  {
   "cell_type": "code",
   "execution_count": null,
   "metadata": {},
   "outputs": [],
   "source": [
    "for x in range (200):\n",
    "    for y in range (200):\n",
    "        canatreino1vet.append (canatreino1[x][y][1])\n",
    "        canatreino2vet.append (canatreino2[x][y][1])\n",
    "        canatreino3vet.append (canatreino3[x][y][1])\n",
    "        canatreino4vet.append (canatreino4[x][y][1])\n",
    "        canatreino5vet.append (canatreino5[x][y][1])\n",
    "        palhatreino1vet.append (palhatreino1[x][y][1])\n",
    "        palhatreino2vet.append (palhatreino2[x][y][1])\n",
    "        palhatreino3vet.append (palhatreino3[x][y][1])\n",
    "        palhatreino4vet.append (palhatreino4[x][y][1])\n",
    "        palhatreino5vet.append (palhatreino5[x][y][1])\n",
    "        socanavet.append (socana[x][y][1])\n",
    "        palha10vet.append (palha10[x][y][1])\n",
    "        palha20vet.append (palha20[x][y][1])\n",
    "        palha30vet.append (palha30[x][y][1])\n",
    "        palha40vet.append (palha40[x][y][1])\n",
    "        palha50vet.append (palha50[x][y][1])\n",
    "        palha60vet.append (palha60[x][y][1])\n",
    "        palha70vet.append (palha70[x][y][1])\n",
    "        palha80vet.append (palha80[x][y][1])\n",
    "        palha90vet.append (palha90[x][y][1])\n",
    "        sopalhavet.append (sopalha[x][y][1])"
   ]
  },
  {
   "cell_type": "code",
   "execution_count": null,
   "metadata": {},
   "outputs": [],
   "source": [
    "matriztreino.append (canatreino1vet)\n",
    "matriztreino.append (canatreino2vet)\n",
    "matriztreino.append (canatreino3vet)\n",
    "matriztreino.append (canatreino4vet)\n",
    "matriztreino.append (canatreino5vet)\n",
    "matriztreino.append (palhatreino1vet)\n",
    "matriztreino.append (palhatreino2vet)\n",
    "matriztreino.append (palhatreino3vet)\n",
    "matriztreino.append (palhatreino4vet)\n",
    "matriztreino.append (palhatreino5vet)\n",
    "matriztreino.append (palha30vet)"
   ]
  },
  {
   "cell_type": "code",
   "execution_count": null,
   "metadata": {},
   "outputs": [],
   "source": [
    "matrizteste.append(socanavet)\n",
    "matrizteste.append(palha10vet)\n",
    "matrizteste.append(palha20vet)\n",
    "matrizteste.append(palha30vet)\n",
    "matrizteste.append(palha40vet)\n",
    "matrizteste.append(palha50vet)\n",
    "matrizteste.append(palha60vet)\n",
    "matrizteste.append(palha70vet)\n",
    "matrizteste.append(palha80vet)\n",
    "matrizteste.append(palha90vet)\n",
    "matrizteste.append(sopalhavet)"
   ]
  },
  {
   "cell_type": "code",
   "execution_count": null,
   "metadata": {},
   "outputs": [],
   "source": [
    "cluster = KMeans(n_clusters = 2)\n",
    "cluster.fit(matriztreino)"
   ]
  },
  {
   "cell_type": "code",
   "execution_count": null,
   "metadata": {},
   "outputs": [],
   "source": [
    "centroids = cluster.cluster_centers_\n",
    "centroids"
   ]
  },
  {
   "cell_type": "code",
   "execution_count": null,
   "metadata": {},
   "outputs": [],
   "source": [
    "for z in range (40000):\n",
    "    centroidpalha.append (centroids[0][z])\n",
    "    centroidcana.append  (centroids[1][z])"
   ]
  },
  {
   "cell_type": "code",
   "execution_count": null,
   "metadata": {},
   "outputs": [],
   "source": [
    "distanciatreino.append (euclidean_distances(centroids,matriztreino))\n",
    "distanciateste.append (euclidean_distances(centroids,matrizteste))"
   ]
  },
  {
   "cell_type": "code",
   "execution_count": null,
   "metadata": {},
   "outputs": [],
   "source": [
    "print(distanciatreino) #cana cana cana cana cana palha palha palha palha palha"
   ]
  },
  {
   "cell_type": "code",
   "execution_count": null,
   "metadata": {},
   "outputs": [],
   "source": [
    "for vetc in range (4):\n",
    "    if (perimetrocana < distanciatreino[0][1][vetc]):\n",
    "        perimetrocana = distanciatreino[0][1][vetc]\n",
    "    if (perimetropalha < distanciatreino[0][0][vetc+5]):\n",
    "        perimetropalha = distanciatreino[0][0][vetc+5]"
   ]
  },
  {
   "cell_type": "code",
   "execution_count": null,
   "metadata": {},
   "outputs": [],
   "source": [
    "print(perimetropalha) # distancia do perimetro\n",
    "print(perimetrocana)"
   ]
  },
  {
   "cell_type": "code",
   "execution_count": null,
   "metadata": {},
   "outputs": [],
   "source": [
    "print(distanciateste)"
   ]
  },
  {
   "cell_type": "code",
   "execution_count": null,
   "metadata": {},
   "outputs": [],
   "source": [
    "print(\"percentual da imagem palha 10%:\")\n",
    "total = distanciateste[0][0][1] + distanciateste[0][1][1]\n",
    "percentualdepalha = (distanciateste[0][0][1])/total*100\n",
    "percentualdecana = (distanciateste[0][1][1])/total*100\n",
    "print(\"percentual de palha:\" + str(percentualdepalha) + \"%\")\n",
    "print(\"percentual de cana:\" + str(percentualdecana) + \"%\")"
   ]
  },
  {
   "cell_type": "code",
   "execution_count": null,
   "metadata": {},
   "outputs": [],
   "source": [
    "for vetc in range (11):\n",
    "    distanciateste[0][0][vetc] = perimetrocana - distanciateste[0][0][vetc]\n",
    "    distanciateste[0][1][vetc] = perimetropalha - distanciateste[0][1][vetc] "
   ]
  },
  {
   "cell_type": "code",
   "execution_count": null,
   "metadata": {},
   "outputs": [],
   "source": [
    "for vetc in range (11):\n",
    "    if (distanciateste[0][0][vetc]<0):\n",
    "        distanciateste[0][0][vetc] = distanciateste[0][0][vetc] * -1\n",
    "    if (distanciateste[0][1][vetc]<0):\n",
    "        distanciateste[0][1][vetc] = distanciateste[0][1][vetc] * -1"
   ]
  },
  {
   "cell_type": "code",
   "execution_count": null,
   "metadata": {},
   "outputs": [],
   "source": [
    "print(distanciateste)"
   ]
  },
  {
   "cell_type": "code",
   "execution_count": null,
   "metadata": {},
   "outputs": [],
   "source": [
    "print(\"percentual da imagem palha 40%:\")\n",
    "total = distanciateste[0][0][4] + distanciateste[0][1][4]\n",
    "percentualdepalha = (distanciateste[0][0][4])/total*100\n",
    "percentualdecana = (distanciateste[0][1][4])/total*100\n",
    "print(\"percentual de palha:\" + str(percentualdepalha) + \"%\")\n",
    "print(\"percentual de cana:\" + str(percentualdecana) + \"%\")"
   ]
  }
 ],
 "metadata": {
  "kernelspec": {
   "display_name": "Python 3",
   "language": "python",
   "name": "python3"
  },
  "language_info": {
   "codemirror_mode": {
    "name": "ipython",
    "version": 3
   },
   "file_extension": ".py",
   "mimetype": "text/x-python",
   "name": "python",
   "nbconvert_exporter": "python",
   "pygments_lexer": "ipython3",
   "version": "3.11.3"
  },
  "orig_nbformat": 4
 },
 "nbformat": 4,
 "nbformat_minor": 2
}
