{
 "cells": [
  {
   "cell_type": "code",
   "execution_count": 273,
   "metadata": {},
   "outputs": [],
   "source": [
    "from sklearn import datasets\n",
    "import numpy as np\n",
    "from sklearn.metrics import confusion_matrix\n",
    "import matplotlib.pyplot as plt\n",
    "from sklearn.cluster import KMeans\n",
    "from sklearn import datasets\n",
    "from sklearn.metrics.pairwise import euclidean_distances\n",
    "from scipy.spatial import distance"
   ]
  },
  {
   "cell_type": "code",
   "execution_count": 274,
   "metadata": {},
   "outputs": [],
   "source": [
    "canatreino1 = plt.imread(\"./cana_treino/ct1.bmp\")\n",
    "canatreino2 = plt.imread(\"./cana_treino/ct2.bmp\")\n",
    "canatreino3 = plt.imread(\"./cana_treino/ct3.bmp\")\n",
    "canatreino4 = plt.imread(\"./cana_treino/ct4.bmp\")\n",
    "canatreino5 = plt.imread(\"./cana_treino/ct5.bmp\")"
   ]
  },
  {
   "cell_type": "code",
   "execution_count": 275,
   "metadata": {},
   "outputs": [],
   "source": [
    "palhatreino1 = plt.imread(\"./palha_treino/pt1.bmp\")\n",
    "palhatreino2 = plt.imread(\"./palha_treino/pt2.bmp\")\n",
    "palhatreino3 = plt.imread(\"./palha_treino/pt3.bmp\")\n",
    "palhatreino4 = plt.imread(\"./palha_treino/pt4.bmp\")\n",
    "palhatreino5 = plt.imread(\"./palha_treino/pt5.bmp\")"
   ]
  },
  {
   "cell_type": "code",
   "execution_count": 276,
   "metadata": {},
   "outputs": [],
   "source": [
    "sopalha = plt.imread(\"./Imagens_percentuais/im_t_p0.bmp\") #100% palha\n",
    "palha10 = plt.imread(\"./Imagens_percentuais/im_t_p1.bmp\")\n",
    "palha20 = plt.imread(\"./Imagens_percentuais/im_t_p2.bmp\")\n",
    "palha30 = plt.imread(\"./Imagens_percentuais/im_t_p3.bmp\")\n",
    "palha40 = plt.imread(\"./Imagens_percentuais/im_t_p4.bmp\")\n",
    "palha50 = plt.imread(\"./Imagens_percentuais/im_t_p5.bmp\")\n",
    "palha60 = plt.imread(\"./Imagens_percentuais/im_t_p6.bmp\")\n",
    "palha70 = plt.imread(\"./Imagens_percentuais/im_t_p7.bmp\")\n",
    "palha80 = plt.imread(\"./Imagens_percentuais/im_t_p8.bmp\")\n",
    "palha90 = plt.imread(\"./Imagens_percentuais/im_t_p9.bmp\")\n",
    "socana = plt.imread(\"./Imagens_percentuais/im_t_p10.bmp\") #100% cana"
   ]
  },
  {
   "cell_type": "code",
   "execution_count": 277,
   "metadata": {},
   "outputs": [],
   "source": [
    "canatreino1vet = []\n",
    "canatreino2vet = []\n",
    "canatreino3vet = []\n",
    "canatreino4vet = []\n",
    "canatreino5vet = []\n",
    "palhatreino1vet = []\n",
    "palhatreino2vet = []\n",
    "palhatreino3vet = []\n",
    "palhatreino4vet = []\n",
    "palhatreino5vet = []\n",
    "sopalhavet = []\n",
    "palha10vet = []\n",
    "palha20vet = []\n",
    "palha30vet = []\n",
    "palha40vet = []\n",
    "palha50vet = []\n",
    "palha60vet = []\n",
    "palha70vet = []\n",
    "palha80vet = []\n",
    "palha90vet = []\n",
    "socanavet = []\n",
    "matriztreino = []\n",
    "centroidpalha = []\n",
    "centroidcana = []\n",
    "matrizteste = []\n",
    "distanciatreino = []\n",
    "distanciateste = []\n",
    "perimetropalha = 0\n",
    "perimetrocana = 0\n"
   ]
  },
  {
   "cell_type": "code",
   "execution_count": 278,
   "metadata": {},
   "outputs": [],
   "source": [
    "for x in range (200):\n",
    "    for y in range (200):\n",
    "        canatreino1vet.append (canatreino1[x][y][1])\n",
    "        canatreino2vet.append (canatreino2[x][y][1])\n",
    "        canatreino3vet.append (canatreino3[x][y][1])\n",
    "        canatreino4vet.append (canatreino4[x][y][1])\n",
    "        canatreino5vet.append (canatreino5[x][y][1])\n",
    "        palhatreino1vet.append (palhatreino1[x][y][1])\n",
    "        palhatreino2vet.append (palhatreino2[x][y][1])\n",
    "        palhatreino3vet.append (palhatreino3[x][y][1])\n",
    "        palhatreino4vet.append (palhatreino4[x][y][1])\n",
    "        palhatreino5vet.append (palhatreino5[x][y][1])\n",
    "        socanavet.append (socana[x][y][1])\n",
    "        palha10vet.append (palha10[x][y][1])\n",
    "        palha20vet.append (palha20[x][y][1])\n",
    "        palha30vet.append (palha30[x][y][1])\n",
    "        palha40vet.append (palha40[x][y][1])\n",
    "        palha50vet.append (palha50[x][y][1])\n",
    "        palha60vet.append (palha60[x][y][1])\n",
    "        palha70vet.append (palha70[x][y][1])\n",
    "        palha80vet.append (palha80[x][y][1])\n",
    "        palha90vet.append (palha90[x][y][1])\n",
    "        sopalhavet.append (sopalha[x][y][1])"
   ]
  },
  {
   "cell_type": "code",
   "execution_count": 279,
   "metadata": {},
   "outputs": [],
   "source": [
    "matriztreino.append (canatreino1vet)\n",
    "matriztreino.append (canatreino2vet)\n",
    "matriztreino.append (canatreino3vet)\n",
    "matriztreino.append (canatreino4vet)\n",
    "matriztreino.append (canatreino5vet)\n",
    "matriztreino.append (palhatreino1vet)\n",
    "matriztreino.append (palhatreino2vet)\n",
    "matriztreino.append (palhatreino3vet)\n",
    "matriztreino.append (palhatreino4vet)\n",
    "matriztreino.append (palhatreino5vet)\n",
    "matriztreino.append (palha30vet)"
   ]
  },
  {
   "cell_type": "code",
   "execution_count": 280,
   "metadata": {},
   "outputs": [],
   "source": [
    "matrizteste.append(socanavet)\n",
    "matrizteste.append(palha10vet)\n",
    "matrizteste.append(palha20vet)\n",
    "matrizteste.append(palha30vet)\n",
    "matrizteste.append(palha40vet)\n",
    "matrizteste.append(palha50vet)\n",
    "matrizteste.append(palha60vet)\n",
    "matrizteste.append(palha70vet)\n",
    "matrizteste.append(palha80vet)\n",
    "matrizteste.append(palha90vet)\n",
    "matrizteste.append(sopalhavet)"
   ]
  },
  {
   "cell_type": "code",
   "execution_count": 281,
   "metadata": {},
   "outputs": [
    {
     "name": "stderr",
     "output_type": "stream",
     "text": [
      "/Library/Frameworks/Python.framework/Versions/3.11/lib/python3.11/site-packages/sklearn/cluster/_kmeans.py:870: FutureWarning: The default value of `n_init` will change from 10 to 'auto' in 1.4. Set the value of `n_init` explicitly to suppress the warning\n",
      "  warnings.warn(\n"
     ]
    },
    {
     "data": {
      "text/html": [
       "<style>#sk-container-id-15 {color: black;background-color: white;}#sk-container-id-15 pre{padding: 0;}#sk-container-id-15 div.sk-toggleable {background-color: white;}#sk-container-id-15 label.sk-toggleable__label {cursor: pointer;display: block;width: 100%;margin-bottom: 0;padding: 0.3em;box-sizing: border-box;text-align: center;}#sk-container-id-15 label.sk-toggleable__label-arrow:before {content: \"▸\";float: left;margin-right: 0.25em;color: #696969;}#sk-container-id-15 label.sk-toggleable__label-arrow:hover:before {color: black;}#sk-container-id-15 div.sk-estimator:hover label.sk-toggleable__label-arrow:before {color: black;}#sk-container-id-15 div.sk-toggleable__content {max-height: 0;max-width: 0;overflow: hidden;text-align: left;background-color: #f0f8ff;}#sk-container-id-15 div.sk-toggleable__content pre {margin: 0.2em;color: black;border-radius: 0.25em;background-color: #f0f8ff;}#sk-container-id-15 input.sk-toggleable__control:checked~div.sk-toggleable__content {max-height: 200px;max-width: 100%;overflow: auto;}#sk-container-id-15 input.sk-toggleable__control:checked~label.sk-toggleable__label-arrow:before {content: \"▾\";}#sk-container-id-15 div.sk-estimator input.sk-toggleable__control:checked~label.sk-toggleable__label {background-color: #d4ebff;}#sk-container-id-15 div.sk-label input.sk-toggleable__control:checked~label.sk-toggleable__label {background-color: #d4ebff;}#sk-container-id-15 input.sk-hidden--visually {border: 0;clip: rect(1px 1px 1px 1px);clip: rect(1px, 1px, 1px, 1px);height: 1px;margin: -1px;overflow: hidden;padding: 0;position: absolute;width: 1px;}#sk-container-id-15 div.sk-estimator {font-family: monospace;background-color: #f0f8ff;border: 1px dotted black;border-radius: 0.25em;box-sizing: border-box;margin-bottom: 0.5em;}#sk-container-id-15 div.sk-estimator:hover {background-color: #d4ebff;}#sk-container-id-15 div.sk-parallel-item::after {content: \"\";width: 100%;border-bottom: 1px solid gray;flex-grow: 1;}#sk-container-id-15 div.sk-label:hover label.sk-toggleable__label {background-color: #d4ebff;}#sk-container-id-15 div.sk-serial::before {content: \"\";position: absolute;border-left: 1px solid gray;box-sizing: border-box;top: 0;bottom: 0;left: 50%;z-index: 0;}#sk-container-id-15 div.sk-serial {display: flex;flex-direction: column;align-items: center;background-color: white;padding-right: 0.2em;padding-left: 0.2em;position: relative;}#sk-container-id-15 div.sk-item {position: relative;z-index: 1;}#sk-container-id-15 div.sk-parallel {display: flex;align-items: stretch;justify-content: center;background-color: white;position: relative;}#sk-container-id-15 div.sk-item::before, #sk-container-id-15 div.sk-parallel-item::before {content: \"\";position: absolute;border-left: 1px solid gray;box-sizing: border-box;top: 0;bottom: 0;left: 50%;z-index: -1;}#sk-container-id-15 div.sk-parallel-item {display: flex;flex-direction: column;z-index: 1;position: relative;background-color: white;}#sk-container-id-15 div.sk-parallel-item:first-child::after {align-self: flex-end;width: 50%;}#sk-container-id-15 div.sk-parallel-item:last-child::after {align-self: flex-start;width: 50%;}#sk-container-id-15 div.sk-parallel-item:only-child::after {width: 0;}#sk-container-id-15 div.sk-dashed-wrapped {border: 1px dashed gray;margin: 0 0.4em 0.5em 0.4em;box-sizing: border-box;padding-bottom: 0.4em;background-color: white;}#sk-container-id-15 div.sk-label label {font-family: monospace;font-weight: bold;display: inline-block;line-height: 1.2em;}#sk-container-id-15 div.sk-label-container {text-align: center;}#sk-container-id-15 div.sk-container {/* jupyter's `normalize.less` sets `[hidden] { display: none; }` but bootstrap.min.css set `[hidden] { display: none !important; }` so we also need the `!important` here to be able to override the default hidden behavior on the sphinx rendered scikit-learn.org. See: https://github.com/scikit-learn/scikit-learn/issues/21755 */display: inline-block !important;position: relative;}#sk-container-id-15 div.sk-text-repr-fallback {display: none;}</style><div id=\"sk-container-id-15\" class=\"sk-top-container\"><div class=\"sk-text-repr-fallback\"><pre>KMeans(n_clusters=2)</pre><b>In a Jupyter environment, please rerun this cell to show the HTML representation or trust the notebook. <br />On GitHub, the HTML representation is unable to render, please try loading this page with nbviewer.org.</b></div><div class=\"sk-container\" hidden><div class=\"sk-item\"><div class=\"sk-estimator sk-toggleable\"><input class=\"sk-toggleable__control sk-hidden--visually\" id=\"sk-estimator-id-15\" type=\"checkbox\" checked><label for=\"sk-estimator-id-15\" class=\"sk-toggleable__label sk-toggleable__label-arrow\">KMeans</label><div class=\"sk-toggleable__content\"><pre>KMeans(n_clusters=2)</pre></div></div></div></div></div>"
      ],
      "text/plain": [
       "KMeans(n_clusters=2)"
      ]
     },
     "execution_count": 281,
     "metadata": {},
     "output_type": "execute_result"
    }
   ],
   "source": [
    "cluster = KMeans(n_clusters = 2)\n",
    "cluster.fit(matriztreino)"
   ]
  },
  {
   "cell_type": "code",
   "execution_count": 282,
   "metadata": {},
   "outputs": [
    {
     "data": {
      "text/plain": [
       "array([[167.6       , 160.2       , 181.        , ..., 211.8       ,\n",
       "        193.        , 132.        ],\n",
       "       [131.66666667, 146.16666667, 167.66666667, ..., 118.66666667,\n",
       "        102.16666667,  66.66666667]])"
      ]
     },
     "execution_count": 282,
     "metadata": {},
     "output_type": "execute_result"
    }
   ],
   "source": [
    "centroids = cluster.cluster_centers_\n",
    "centroids"
   ]
  },
  {
   "cell_type": "code",
   "execution_count": 283,
   "metadata": {},
   "outputs": [],
   "source": [
    "for z in range (40000):\n",
    "    centroidpalha.append (centroids[0][z])\n",
    "    centroidcana.append  (centroids[1][z])"
   ]
  },
  {
   "cell_type": "code",
   "execution_count": 284,
   "metadata": {},
   "outputs": [],
   "source": [
    "distanciatreino.append (euclidean_distances(centroids,matriztreino))\n",
    "distanciateste.append (euclidean_distances(centroids,matrizteste))"
   ]
  },
  {
   "cell_type": "code",
   "execution_count": 285,
   "metadata": {},
   "outputs": [
    {
     "name": "stdout",
     "output_type": "stream",
     "text": [
      "[array([[17544.3214893 , 17414.26598281, 17434.96982274, 17695.65843138,\n",
      "        17693.73690095, 12970.19644878, 13035.3101275 , 12760.09012978,\n",
      "        12722.69963176, 12677.39580198, 16660.7229531 ],\n",
      "       [12655.35123091, 12563.24342853, 12795.68819738, 12818.10139781,\n",
      "        12682.58124796, 17610.99749525, 17703.00232854, 17561.53820459,\n",
      "        17772.73789013, 17617.50452754, 11417.93151631]])]\n"
     ]
    }
   ],
   "source": [
    "print(distanciatreino) #cana cana cana cana cana palha palha palha palha palha"
   ]
  },
  {
   "cell_type": "code",
   "execution_count": 286,
   "metadata": {},
   "outputs": [],
   "source": [
    "for vetc in range (4):\n",
    "    if (perimetrocana < distanciatreino[0][1][vetc]):\n",
    "        perimetrocana = distanciatreino[0][1][vetc]\n",
    "    if (perimetropalha < distanciatreino[0][0][vetc+5]):\n",
    "        perimetropalha = distanciatreino[0][0][vetc+5]"
   ]
  },
  {
   "cell_type": "code",
   "execution_count": 287,
   "metadata": {},
   "outputs": [
    {
     "name": "stdout",
     "output_type": "stream",
     "text": [
      "13035.31012749605\n",
      "12818.1013978063\n"
     ]
    }
   ],
   "source": [
    "print(perimetropalha) # distancia do perimetro\n",
    "print(perimetrocana)"
   ]
  },
  {
   "cell_type": "code",
   "execution_count": 288,
   "metadata": {},
   "outputs": [
    {
     "name": "stdout",
     "output_type": "stream",
     "text": [
      "[array([[18561.4416175 , 15628.36918939, 16003.26592043, 16660.7229531 ,\n",
      "        16462.8647665 , 17215.30501966, 17540.42918289, 17633.70911975,\n",
      "        17584.83312176, 18147.00027332, 15455.35823331],\n",
      "       [13486.05962137, 13494.10923741, 13603.39477647, 11417.93151631,\n",
      "        13337.38298085, 13542.54997324, 13727.23864358, 13369.38121646,\n",
      "        13416.26827566, 13480.67938858, 13181.48905768]])]\n"
     ]
    }
   ],
   "source": [
    "print(distanciateste)"
   ]
  },
  {
   "cell_type": "code",
   "execution_count": 289,
   "metadata": {},
   "outputs": [
    {
     "name": "stdout",
     "output_type": "stream",
     "text": [
      "percentual da imagem palha 10%:\n",
      "percentual de palha:53.6642828276961%\n",
      "percentual de cana:46.3357171723039%\n"
     ]
    }
   ],
   "source": [
    "print(\"percentual da imagem palha 10%:\")\n",
    "total = distanciateste[0][0][1] + distanciateste[0][1][1]\n",
    "percentualdepalha = (distanciateste[0][0][1])/total*100\n",
    "percentualdecana = (distanciateste[0][1][1])/total*100\n",
    "print(\"percentual de palha:\" + str(percentualdepalha) + \"%\")\n",
    "print(\"percentual de cana:\" + str(percentualdecana) + \"%\")"
   ]
  },
  {
   "cell_type": "code",
   "execution_count": 290,
   "metadata": {},
   "outputs": [],
   "source": [
    "for vetc in range (11):\n",
    "    distanciateste[0][0][vetc] = perimetrocana - distanciateste[0][0][vetc]\n",
    "    distanciateste[0][1][vetc] = perimetropalha - distanciateste[0][1][vetc] "
   ]
  },
  {
   "cell_type": "code",
   "execution_count": 291,
   "metadata": {},
   "outputs": [],
   "source": [
    "for vetc in range (11):\n",
    "    if (distanciateste[0][0][vetc]<0):\n",
    "        distanciateste[0][0][vetc] = distanciateste[0][0][vetc] * -1\n",
    "    if (distanciateste[0][1][vetc]<0):\n",
    "        distanciateste[0][1][vetc] = distanciateste[0][1][vetc] * -1"
   ]
  },
  {
   "cell_type": "code",
   "execution_count": 292,
   "metadata": {},
   "outputs": [
    {
     "name": "stdout",
     "output_type": "stream",
     "text": [
      "[array([[5743.3402197 , 2810.26779159, 3185.16452262, 3842.6215553 ,\n",
      "        3644.76336869, 4397.20362186, 4722.32778508, 4815.60772195,\n",
      "        4766.73172395, 5328.89887552, 2637.25683551],\n",
      "       [ 450.74949387,  458.79910991,  568.08464897, 1617.37861119,\n",
      "         302.07285335,  507.23984575,  691.92851608,  334.07108897,\n",
      "         380.95814816,  445.36926109,  146.17893019]])]\n"
     ]
    }
   ],
   "source": [
    "print(distanciateste)"
   ]
  },
  {
   "cell_type": "code",
   "execution_count": 293,
   "metadata": {},
   "outputs": [
    {
     "name": "stdout",
     "output_type": "stream",
     "text": [
      "percentual da imagem palha 30%:\n",
      "percentual de palha:70.3776820170048%\n",
      "percentual de cana:29.6223179829952%\n"
     ]
    }
   ],
   "source": [
    "print(\"percentual da imagem palha 30%:\")\n",
    "total = distanciateste[0][0][3] + distanciateste[0][1][3]\n",
    "percentualdepalha = (distanciateste[0][0][3])/total*100\n",
    "percentualdecana = (distanciateste[0][1][3])/total*100\n",
    "print(\"percentual de palha:\" + str(percentualdepalha) + \"%\")\n",
    "print(\"percentual de cana:\" + str(percentualdecana) + \"%\")"
   ]
  }
 ],
 "metadata": {
  "kernelspec": {
   "display_name": "Python 3",
   "language": "python",
   "name": "python3"
  },
  "language_info": {
   "codemirror_mode": {
    "name": "ipython",
    "version": 3
   },
   "file_extension": ".py",
   "mimetype": "text/x-python",
   "name": "python",
   "nbconvert_exporter": "python",
   "pygments_lexer": "ipython3",
   "version": "3.11.3"
  },
  "orig_nbformat": 4
 },
 "nbformat": 4,
 "nbformat_minor": 2
}
